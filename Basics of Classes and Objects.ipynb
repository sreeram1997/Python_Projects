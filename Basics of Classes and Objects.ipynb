{
 "cells": [
  {
   "cell_type": "markdown",
   "metadata": {},
   "source": [
    "# CLASS & OBJECT\n"
   ]
  },
  {
   "cell_type": "markdown",
   "metadata": {},
   "source": [
    "The two main aspects of Object Oriented Programming are Classes and Objects.\\n\n",
    "A class is a basic building block in python which which creates a new type and an object is the instant of a class."
   ]
  },
  {
   "cell_type": "code",
   "execution_count": 16,
   "metadata": {},
   "outputs": [
    {
     "data": {
      "text/plain": [
       "10"
      ]
     },
     "execution_count": 16,
     "metadata": {},
     "output_type": "execute_result"
    }
   ],
   "source": [
    "class xyz:\n",
    "    var=10\n",
    "obj=xyz()\n",
    "obj.var"
   ]
  },
  {
   "cell_type": "code",
   "execution_count": 18,
   "metadata": {
    "scrolled": true
   },
   "outputs": [
    {
     "name": "stdout",
     "output_type": "stream",
     "text": [
      "the var value is 32\n",
      "32\n"
     ]
    }
   ],
   "source": [
    "class xyz:\n",
    "    def __init__(self,var):#this method initializes the object to be created\n",
    "        self.var=var\n",
    "    def disp(self):\n",
    "        print(\"the var value is\",self.var)\n",
    "    \n",
    "obj=xyz(32)\n",
    "obj.disp()\n",
    "print(obj.var)"
   ]
  },
  {
   "cell_type": "markdown",
   "metadata": {},
   "source": [
    "# Calling a Class method from another Class Method"
   ]
  },
  {
   "cell_type": "code",
   "execution_count": 27,
   "metadata": {},
   "outputs": [
    {
     "name": "stdout",
     "output_type": "stream",
     "text": [
      "45 is odd\n"
     ]
    }
   ],
   "source": [
    "class Number:\n",
    "    odd=0\n",
    "\n",
    "    def check(self,num):\n",
    "        if num%2!=0:\n",
    "            self.odd=1\n",
    "    def Even_Odd(self,num):\n",
    "        self.check(num)\n",
    "        if self.odd==0:\n",
    "            print(num,\"is even\")\n",
    "        else:\n",
    "            print(num,\"is odd\")\n",
    "n=Number()\n",
    "n.Even_Odd(45)\n"
   ]
  },
  {
   "cell_type": "markdown",
   "metadata": {},
   "source": [
    "Using __del()__ Method"
   ]
  },
  {
   "cell_type": "code",
   "execution_count": 37,
   "metadata": {
    "scrolled": true
   },
   "outputs": [
    {
     "name": "stdout",
     "output_type": "stream",
     "text": [
      "45 is odd\n",
      "0\n",
      "Exception\n",
      "\n",
      "Object deleted\n"
     ]
    }
   ],
   "source": [
    "class Number:\n",
    "    odd=0\n",
    "\n",
    "    def check(self,num):\n",
    "        if num%2!=0:\n",
    "            self.odd=1\n",
    "    def Even_Odd(self,num):\n",
    "        self.check(num)\n",
    "        if self.odd==0:\n",
    "            print(num,\"is even\")\n",
    "        else:\n",
    "            print(num,\"is odd\")\n",
    "    def __del__(self):\n",
    "        self.odd-=1\n",
    "        print(self.odd)\n",
    "try:\n",
    "    n=Number()\n",
    "    n.Even_Odd(45)\n",
    "    del n\n",
    "    n.Even_Odd(45)\n",
    "except NameError:\n",
    "    print(\"Exception\\n\")\n",
    "    print(\"Object deleted\")"
   ]
  },
  {
   "cell_type": "markdown",
   "metadata": {},
   "source": [
    "# PRIVATE METHODS"
   ]
  },
  {
   "cell_type": "code",
   "execution_count": null,
   "metadata": {},
   "outputs": [],
   "source": []
  },
  {
   "cell_type": "code",
   "execution_count": 14,
   "metadata": {},
   "outputs": [
    {
     "name": "stdout",
     "output_type": "stream",
     "text": [
      "From class method var= 20\n",
      "From class method var1= 30\n",
      "From main module var1= 30\n",
      "Private variables cannot be accessed outside the class(obj.__var)\n"
     ]
    }
   ],
   "source": [
    "class XYZ:\n",
    "    def __init__(self ,var,var1):\n",
    "        self.__var=var#private variables\n",
    "        self.var1=var1\n",
    "    def display(self):\n",
    "        print(\"From class method var=\",self.__var)#private variable\n",
    "        print(\"From class method var1=\",self.var1)#public variable\n",
    "\n",
    "try:        \n",
    "    obj=XYZ(20,30)\n",
    "    obj.display()\n",
    "    print(\"From main module var1=\",obj.var1)\n",
    "    print(\"From main module var=\",obj.__var)#private variable\n",
    "except:\n",
    "    print(\"Private variables cannot be accessed outside the class(obj.__var)\")\n"
   ]
  },
  {
   "cell_type": "markdown",
   "metadata": {},
   "source": [
    "Python provides us the privilige to call the private attributes to be called from outside the class scope with a '_'"
   ]
  },
  {
   "cell_type": "code",
   "execution_count": 23,
   "metadata": {},
   "outputs": [
    {
     "name": "stdout",
     "output_type": "stream",
     "text": [
      "ABC class not called privately.Assign _ABC\n"
     ]
    }
   ],
   "source": [
    "class ABC():\n",
    "    def __init__(self,var):\n",
    "        self.__var=var\n",
    "    def __display(self):#Private method\n",
    "        print(\"From class method,var=\",self.__var)\n",
    "try:\n",
    "    obj=ABC(10)\n",
    "    obj._ABC__display__()#calling a private method outside the class scope\n",
    "except AttributeError:\n",
    "    print(\"ABC class not called privately.Assign _ABC to call private method\")"
   ]
  },
  {
   "cell_type": "markdown",
   "metadata": {},
   "source": [
    "# TO GET,SET AND DELETE CLASS ATTRIBUTES\n"
   ]
  },
  {
   "cell_type": "markdown",
   "metadata": {},
   "source": [
    " hasattr(obj,name)-To check if an object possesses the attribute or not\n",
    "getattr(obj,name[,default])-Used to access or get the attribute of the object\n",
    "setattr(obj,name,value)-used to set an attribute of an object\n",
    "delattr(obj,name)-It deletes an attribute"
   ]
  },
  {
   "cell_type": "code",
   "execution_count": 45,
   "metadata": {},
   "outputs": [
    {
     "name": "stdout",
     "output_type": "stream",
     "text": [
      "Var is = 10\n",
      "Check attribute var True\n",
      "10\n",
      "After setting value 50\n",
      "New attribute value is 25\n",
      "Deleting the Attribute\n",
      "The Attribute is deleted\n"
     ]
    }
   ],
   "source": [
    "class EFG:\n",
    "    def __init__(self,var):\n",
    "        self.var=var\n",
    "    def display(self):\n",
    "        print(\"Var is =\",self.var)\n",
    "obj=EFG(10)\n",
    "obj.display()\n",
    "print(\"Check attribute var\",hasattr(obj,'var'))\n",
    "print(getattr(obj,'var'))\n",
    "setattr(obj,'var','50')\n",
    "print(\"After setting value\",obj.var)\n",
    "setattr(obj,'count',25)\n",
    "print(\"New attribute value is\",obj.count)\n",
    "try:\n",
    "    print(\"Deleting the Attribute\")\n",
    "    delattr(obj,'var')\n",
    "    print('After deleting the attribute,var is:',obj.var)\n",
    "except AttributeError:\n",
    "    print(\"The Attribute is deleted\")"
   ]
  },
  {
   "cell_type": "markdown",
   "metadata": {},
   "source": [
    "# BUILT IN CLASS ATTRIBUTES"
   ]
  },
  {
   "cell_type": "markdown",
   "metadata": {},
   "source": [
    "Python provides us some  built-in-functions which can be used to work with attributes"
   ]
  },
  {
   "cell_type": "code",
   "execution_count": 52,
   "metadata": {},
   "outputs": [
    {
     "name": "stdout",
     "output_type": "stream",
     "text": [
      "X= 110\n",
      "y= 20\n",
      "{'x': 110, 'y': 20}\n",
      "None\n",
      "__main__\n",
      "(<class 'object'>,)\n"
     ]
    }
   ],
   "source": [
    "class HIJ:\n",
    "    def __init__(self,x,y):\n",
    "        self.x=x\n",
    "        self.y=y\n",
    "    def display(self):\n",
    "        print(\"X=\",self.x)\n",
    "        print(\"y=\",self.y)\n",
    "\n",
    "obj=HIJ(110,20)\n",
    "obj.display()\n",
    "print(obj.__dict__)#gives a disctioanry containing a class or object\n",
    "print(obj.__doc__)#Gives the documentation string\n",
    "print(obj.__module__)#gives the name of the module in which the class is given \n",
    "print(HIJ.__bases__)#Prints the base class if present"
   ]
  },
  {
   "cell_type": "code",
   "execution_count": null,
   "metadata": {},
   "outputs": [],
   "source": []
  }
 ],
 "metadata": {
  "kernelspec": {
   "display_name": "Python 3",
   "language": "python",
   "name": "python3"
  },
  "language_info": {
   "codemirror_mode": {
    "name": "ipython",
    "version": 3
   },
   "file_extension": ".py",
   "mimetype": "text/x-python",
   "name": "python",
   "nbconvert_exporter": "python",
   "pygments_lexer": "ipython3",
   "version": "3.8.3"
  }
 },
 "nbformat": 4,
 "nbformat_minor": 4
}
