{
 "cells": [
  {
   "cell_type": "markdown",
   "id": "5db2eaa4",
   "metadata": {},
   "source": [
    "# Extracting Daily NEWS  USING BEAUTIFUL SOUP AND NEWSPAPER3K "
   ]
  },
  {
   "cell_type": "code",
   "execution_count": 1,
   "id": "65a2b5b2",
   "metadata": {},
   "outputs": [],
   "source": [
    "from newspaper import Article\n",
    "\n",
    "import nltk\n",
    "\n",
    "nltk.download('punkt')\n",
    "\n",
    "import requests\n",
    "from bs4 import BeautifulSoup"
   ]
  },
  {
   "cell_type": "code",
   "execution_count": 8,
   "id": "cd0a73cd",
   "metadata": {},
   "outputs": [],
   "source": [
    "def timesofindia():\n",
    "    url = \"https://timesofindia.indiatimes.com/home/headlines\"\n",
    "    page_request = requests.get(url)\n",
    "    data = page_request.content\n",
    "    soup = BeautifulSoup(data,\"html.parser\")\n",
    "    links=[]\n",
    "    counter = 0\n",
    "    for divtag in soup.find_all('div', {'class': 'headlines-list'}):\n",
    "        for ultag in divtag.find_all('ul', {'class': 'clearfix'}):\n",
    "            if (counter <= 10):\n",
    "                for litag in ultag.find_all('li'):\n",
    "                    counter = counter + 1\n",
    "                    links.append(\"https://timesofindia.indiatimes.com\"+ litag.find('a')['href'])\n",
    "            else:\n",
    "                break\n",
    "    return links"
   ]
  },
  {
   "cell_type": "markdown",
   "id": "39bfcead",
   "metadata": {},
   "source": [
    "# EXTRACTING IMPORTANT HEADLINES "
   ]
  },
  {
   "cell_type": "code",
   "execution_count": 9,
   "id": "9b26c488",
   "metadata": {
    "scrolled": true
   },
   "outputs": [],
   "source": [
    "import numpy as np\n",
    "data=np.array(timesofindia())"
   ]
  },
  {
   "cell_type": "code",
   "execution_count": 54,
   "id": "00424e83",
   "metadata": {},
   "outputs": [],
   "source": [
    "ss=[]\n",
    "for i in np.arange(0,len(data)):\n",
    "    l2=\"article_{}\".format(i)\n",
    "    ss.append(l2)"
   ]
  },
  {
   "cell_type": "code",
   "execution_count": 55,
   "id": "624dd859",
   "metadata": {
    "scrolled": true
   },
   "outputs": [
    {
     "data": {
      "text/plain": [
       "['article_0',\n",
       " 'article_1',\n",
       " 'article_2',\n",
       " 'article_3',\n",
       " 'article_4',\n",
       " 'article_5',\n",
       " 'article_6',\n",
       " 'article_7',\n",
       " 'article_8',\n",
       " 'article_9',\n",
       " 'article_10',\n",
       " 'article_11']"
      ]
     },
     "execution_count": 55,
     "metadata": {},
     "output_type": "execute_result"
    }
   ],
   "source": [
    "ss"
   ]
  },
  {
   "cell_type": "code",
   "execution_count": 66,
   "id": "ce643deb",
   "metadata": {},
   "outputs": [],
   "source": [
    "from datetime import datetime,date\n",
    "\n",
    "file1=open(f\"Daily_News_File{date.today()}.txt\", \"w+\")"
   ]
  },
  {
   "cell_type": "markdown",
   "id": "7722fbb7",
   "metadata": {},
   "source": [
    "# EXTRACTION OF NEWS SUMMARY"
   ]
  },
  {
   "cell_type": "markdown",
   "id": "e8d63b97",
   "metadata": {},
   "source": [
    "To parse the html tags and elements using Newspaper 3k package"
   ]
  },
  {
   "cell_type": "code",
   "execution_count": 67,
   "id": "3403f8c9",
   "metadata": {
    "scrolled": true
   },
   "outputs": [
    {
     "name": "stdout",
     "output_type": "stream",
     "text": [
      "article_0\n",
      "\n",
      "\n",
      "\n",
      "\n",
      "\n",
      "\n",
      "article_1\n",
      "\n",
      "\n",
      "\n",
      "\n",
      "\n",
      "\n",
      "article_2\n",
      "\n",
      "\n",
      "\n",
      "\n",
      "\n",
      "\n",
      "article_3\n",
      "\n",
      "\n",
      "\n",
      "\n",
      "\n",
      "\n",
      "article_4\n",
      "\n",
      "\n",
      "\n",
      "\n",
      "\n",
      "\n",
      "article_5\n",
      "\n",
      "\n",
      "\n",
      "\n",
      "\n",
      "\n",
      "article_6\n",
      "\n",
      "\n",
      "\n",
      "\n",
      "\n",
      "\n",
      "article_7\n",
      "\n",
      "\n",
      "\n",
      "\n",
      "\n",
      "\n",
      "article_8\n",
      "\n",
      "\n",
      "\n",
      "\n",
      "\n",
      "\n",
      "article_9\n",
      "\n",
      "\n",
      "\n",
      "\n",
      "\n",
      "\n",
      "article_10\n",
      "\n",
      "\n",
      "\n",
      "\n",
      "\n",
      "\n",
      "article_11\n",
      "\n",
      "\n",
      "\n",
      "\n",
      "\n",
      "\n"
     ]
    }
   ],
   "source": [
    "for i,k in zip(np.arange(0,len(data)),ss):\n",
    "    #print(k)\n",
    "    #file1.write(f\"Article{data[i]}\")\n",
    "    data[i]=data[i].split(\"https://\")[len(data[i].split(\"https://\"))-1]\n",
    "    exec(f\"{k}=Article('https://'+data[{i}],language='en')\")\n",
    "    k=eval(k)\n",
    "        \n",
    "    k.download()\n",
    "    k.parse()\n",
    "    k.nlp()\n",
    "    file1.write(f\"Title{i}:\\t\")\n",
    "    file1.write(k.title)\n",
    "    print('\\n')\n",
    "    file1.write(\"\\n\\nArticle Summary:\\n\")\n",
    "    file1.write(k.summary)\n",
    "    print('\\n')\n",
    "    file1.write(\"\\n\\n\\nArticle Keywords:\\n\")\n",
    "    keywords='\\n'.join(k.keywords)\n",
    "    file1.write(keywords)\n",
    "    print('\\n')\n",
    "    \n",
    "    "
   ]
  },
  {
   "cell_type": "code",
   "execution_count": 69,
   "id": "10fbece4",
   "metadata": {},
   "outputs": [],
   "source": [
    "file1.close()"
   ]
  },
  {
   "cell_type": "code",
   "execution_count": null,
   "id": "058eb449",
   "metadata": {},
   "outputs": [],
   "source": []
  }
 ],
 "metadata": {
  "kernelspec": {
   "display_name": "Python 3",
   "language": "python",
   "name": "python3"
  },
  "language_info": {
   "codemirror_mode": {
    "name": "ipython",
    "version": 3
   },
   "file_extension": ".py",
   "mimetype": "text/x-python",
   "name": "python",
   "nbconvert_exporter": "python",
   "pygments_lexer": "ipython3",
   "version": "3.8.3"
  }
 },
 "nbformat": 4,
 "nbformat_minor": 5
}
